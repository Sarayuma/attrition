{
  "nbformat": 4,
  "nbformat_minor": 0,
  "metadata": {
    "colab": {
      "provenance": [],
      "authorship_tag": "ABX9TyPFjLjRByk5RS8E3ADFnVkO",
      "include_colab_link": true
    },
    "kernelspec": {
      "name": "python3",
      "display_name": "Python 3"
    },
    "language_info": {
      "name": "python"
    }
  },
  "cells": [
    {
      "cell_type": "markdown",
      "metadata": {
        "id": "view-in-github",
        "colab_type": "text"
      },
      "source": [
        "<a href=\"https://colab.research.google.com/github/Sarayuma/attrition/blob/main/attrition_analysis_.ipynb\" target=\"_parent\"><img src=\"https://colab.research.google.com/assets/colab-badge.svg\" alt=\"Open In Colab\"/></a>"
      ]
    },
    {
      "cell_type": "code",
      "execution_count": null,
      "metadata": {
        "id": "KUnCdtp6h13V"
      },
      "outputs": [],
      "source": [
        "import pandas as pd\n",
        "import numpy as np\n",
        "import matplotlib.pyplot as plt\n",
        "import seaborn as sns\n",
        "from sklearn.model_selection import train_test_split, GridSearchCV\n",
        "from sklearn.preprocessing import StandardScaler\n",
        "from sklearn.linear_model import LogisticRegression\n",
        "from sklearn.ensemble import RandomForestClassifier\n",
        "from xgboost import XGBClassifier\n",
        "from sklearn.metrics import accuracy_score, classification_report, roc_auc_score, confusion_matrix, roc_curve\n",
        "from imblearn.over_sampling import SMOTE  # Handle class imbalance\n",
        "import shap\n",
        "import tensorflow as tf\n",
        "from tensorflow.keras import layers, models"
      ]
    },
    {
      "cell_type": "code",
      "source": [],
      "metadata": {
        "id": "hfXoHsynpWz5"
      },
      "execution_count": null,
      "outputs": []
    },
    {
      "cell_type": "code",
      "source": [
        "# Load the dataset\n",
        "df = pd.read_csv('/content/hrdata.csv')\n",
        "\n",
        "# Preprocessing\n",
        "df['Attrition'] = df['Attrition'].map({'Yes': 1, 'No': 0})\n",
        "df = df.drop(['EmployeeNumber', 'Over18', 'StandardHours'], axis=1)\n",
        "df = pd.get_dummies(df, drop_first=True)"
      ],
      "metadata": {
        "id": "shsle5LKiINT"
      },
      "execution_count": null,
      "outputs": []
    },
    {
      "cell_type": "markdown",
      "source": [],
      "metadata": {
        "id": "tfx_Me9WiFT_"
      }
    },
    {
      "cell_type": "code",
      "source": [
        "# Split data\n",
        "X = df.drop('Attrition', axis=1)\n",
        "y = df['Attrition']\n",
        "print(y)"
      ],
      "metadata": {
        "colab": {
          "base_uri": "https://localhost:8080/"
        },
        "id": "2YfHYL1wiYhO",
        "outputId": "b8dcfa96-4442-4d66-f4d8-01058e3fd19c"
      },
      "execution_count": null,
      "outputs": [
        {
          "output_type": "stream",
          "name": "stdout",
          "text": [
            "0       1\n",
            "1       0\n",
            "2       1\n",
            "3       0\n",
            "4       0\n",
            "       ..\n",
            "1465    0\n",
            "1466    0\n",
            "1467    0\n",
            "1468    0\n",
            "1469    0\n",
            "Name: Attrition, Length: 1470, dtype: int64\n"
          ]
        }
      ]
    },
    {
      "cell_type": "code",
      "source": [
        "print(df['Attrition'].value_counts())"
      ],
      "metadata": {
        "colab": {
          "base_uri": "https://localhost:8080/"
        },
        "id": "Kh8ltKPgpij8",
        "outputId": "ec050218-4e64-4e67-da6f-95afe287e004"
      },
      "execution_count": null,
      "outputs": [
        {
          "output_type": "stream",
          "name": "stdout",
          "text": [
            "Attrition\n",
            "0    1233\n",
            "1     237\n",
            "Name: count, dtype: int64\n"
          ]
        }
      ]
    },
    {
      "cell_type": "code",
      "source": [
        "import joblib\n",
        "joblib.dump(X.columns, 'feature_names.pkl')"
      ],
      "metadata": {
        "colab": {
          "base_uri": "https://localhost:8080/"
        },
        "id": "Mz9HoLqgSwD4",
        "outputId": "9799dcd2-9ac7-46a9-98db-1b684250cf06"
      },
      "execution_count": null,
      "outputs": [
        {
          "output_type": "execute_result",
          "data": {
            "text/plain": [
              "['feature_names.pkl']"
            ]
          },
          "metadata": {},
          "execution_count": 28
        }
      ]
    },
    {
      "cell_type": "code",
      "source": [
        "# Handle class imbalance with SMOTE\n",
        "smote = SMOTE(random_state=42)\n",
        "X_res, y_res = smote.fit_resample(X, y)"
      ],
      "metadata": {
        "id": "sDYr7_91icKx"
      },
      "execution_count": null,
      "outputs": []
    },
    {
      "cell_type": "code",
      "source": [
        "# Split into train/test\n",
        "X_train, X_test, y_train, y_test = train_test_split(X_res, y_res, test_size=0.2, random_state=42)"
      ],
      "metadata": {
        "id": "oev2SyXrikjF"
      },
      "execution_count": null,
      "outputs": []
    },
    {
      "cell_type": "code",
      "source": [
        "# Scale features\n",
        "scaler = StandardScaler()\n",
        "X_train_scaled = scaler.fit_transform(X_train)\n",
        "X_test_scaled = scaler.transform(X_test)\n",
        "\n",
        "# Save model and scaler\n",
        "joblib.dump(xgb_best, 'attrition_model.pkl')\n",
        "joblib.dump(scaler, 'scaler.pkl')"
      ],
      "metadata": {
        "id": "Q-_aWzY3ipsX",
        "colab": {
          "base_uri": "https://localhost:8080/"
        },
        "outputId": "1a57c4aa-4ddc-4c5d-f5b4-a74d54e808e7"
      },
      "execution_count": null,
      "outputs": [
        {
          "output_type": "execute_result",
          "data": {
            "text/plain": [
              "['scaler.pkl']"
            ]
          },
          "metadata": {},
          "execution_count": 29
        }
      ]
    },
    {
      "cell_type": "markdown",
      "source": [
        "Model 1: Logistic Regression (with Hyperparameter Tuning)"
      ],
      "metadata": {
        "id": "mIfq3yxvivd_"
      }
    },
    {
      "cell_type": "code",
      "source": [
        "lr = LogisticRegression(max_iter=1000, class_weight='balanced')\n",
        "lr_params = {'C': [0.001, 0.01, 0.1, 1, 10], 'solver': ['liblinear', 'saga']}\n",
        "lr_grid = GridSearchCV(lr, lr_params, cv=5, scoring='roc_auc')\n",
        "lr_grid.fit(X_train_scaled, y_train)\n",
        "lr_best = lr_grid.best_estimator_"
      ],
      "metadata": {
        "id": "EXKf7MMXis0E"
      },
      "execution_count": null,
      "outputs": []
    },
    {
      "cell_type": "markdown",
      "source": [
        "Model 2: Random Forest (Optimized)"
      ],
      "metadata": {
        "id": "UDvBzNDxi2Uk"
      }
    },
    {
      "cell_type": "code",
      "source": [
        "rf = RandomForestClassifier(class_weight='balanced', random_state=42)\n",
        "rf_params = {'n_estimators': [100, 200], 'max_depth': [None, 10]}\n",
        "rf_grid = GridSearchCV(rf, rf_params, cv=5, scoring='roc_auc')\n",
        "rf_grid.fit(X_train_scaled, y_train)\n",
        "rf_best = rf_grid.best_estimator_"
      ],
      "metadata": {
        "id": "dPfiNBAui5el"
      },
      "execution_count": null,
      "outputs": []
    },
    {
      "cell_type": "markdown",
      "source": [
        "Model 3: XGBoost (Best for Imbalanced Data)"
      ],
      "metadata": {
        "id": "CjSAPrZYjA9P"
      }
    },
    {
      "cell_type": "code",
      "source": [
        "xgb = XGBClassifier(scale_pos_weight=len(y_train[y_train==0])/len(y_train[y_train==1]),\n",
        "                    eval_metric='logloss', use_label_encoder=False)\n",
        "xgb_params = {'learning_rate': [0.01, 0.1], 'max_depth': [3, 5]}\n",
        "xgb_grid = GridSearchCV(xgb, xgb_params, cv=5, scoring='roc_auc')\n",
        "xgb_grid.fit(X_train_scaled, y_train)\n",
        "xgb_best = xgb_grid.best_estimator_"
      ],
      "metadata": {
        "colab": {
          "base_uri": "https://localhost:8080/"
        },
        "id": "0qBP69A_jAjN",
        "outputId": "b6c61895-be20-4ad7-b3e2-513b78525f74"
      },
      "execution_count": null,
      "outputs": [
        {
          "output_type": "stream",
          "name": "stderr",
          "text": [
            "/usr/local/lib/python3.11/dist-packages/xgboost/core.py:158: UserWarning: [04:24:01] WARNING: /workspace/src/learner.cc:740: \n",
            "Parameters: { \"use_label_encoder\" } are not used.\n",
            "\n",
            "  warnings.warn(smsg, UserWarning)\n",
            "/usr/local/lib/python3.11/dist-packages/xgboost/core.py:158: UserWarning: [04:24:01] WARNING: /workspace/src/learner.cc:740: \n",
            "Parameters: { \"use_label_encoder\" } are not used.\n",
            "\n",
            "  warnings.warn(smsg, UserWarning)\n",
            "/usr/local/lib/python3.11/dist-packages/xgboost/core.py:158: UserWarning: [04:24:01] WARNING: /workspace/src/learner.cc:740: \n",
            "Parameters: { \"use_label_encoder\" } are not used.\n",
            "\n",
            "  warnings.warn(smsg, UserWarning)\n",
            "/usr/local/lib/python3.11/dist-packages/xgboost/core.py:158: UserWarning: [04:24:01] WARNING: /workspace/src/learner.cc:740: \n",
            "Parameters: { \"use_label_encoder\" } are not used.\n",
            "\n",
            "  warnings.warn(smsg, UserWarning)\n",
            "/usr/local/lib/python3.11/dist-packages/xgboost/core.py:158: UserWarning: [04:24:02] WARNING: /workspace/src/learner.cc:740: \n",
            "Parameters: { \"use_label_encoder\" } are not used.\n",
            "\n",
            "  warnings.warn(smsg, UserWarning)\n",
            "/usr/local/lib/python3.11/dist-packages/xgboost/core.py:158: UserWarning: [04:24:02] WARNING: /workspace/src/learner.cc:740: \n",
            "Parameters: { \"use_label_encoder\" } are not used.\n",
            "\n",
            "  warnings.warn(smsg, UserWarning)\n",
            "/usr/local/lib/python3.11/dist-packages/xgboost/core.py:158: UserWarning: [04:24:02] WARNING: /workspace/src/learner.cc:740: \n",
            "Parameters: { \"use_label_encoder\" } are not used.\n",
            "\n",
            "  warnings.warn(smsg, UserWarning)\n",
            "/usr/local/lib/python3.11/dist-packages/xgboost/core.py:158: UserWarning: [04:24:02] WARNING: /workspace/src/learner.cc:740: \n",
            "Parameters: { \"use_label_encoder\" } are not used.\n",
            "\n",
            "  warnings.warn(smsg, UserWarning)\n",
            "/usr/local/lib/python3.11/dist-packages/xgboost/core.py:158: UserWarning: [04:24:02] WARNING: /workspace/src/learner.cc:740: \n",
            "Parameters: { \"use_label_encoder\" } are not used.\n",
            "\n",
            "  warnings.warn(smsg, UserWarning)\n",
            "/usr/local/lib/python3.11/dist-packages/xgboost/core.py:158: UserWarning: [04:24:02] WARNING: /workspace/src/learner.cc:740: \n",
            "Parameters: { \"use_label_encoder\" } are not used.\n",
            "\n",
            "  warnings.warn(smsg, UserWarning)\n",
            "/usr/local/lib/python3.11/dist-packages/xgboost/core.py:158: UserWarning: [04:24:02] WARNING: /workspace/src/learner.cc:740: \n",
            "Parameters: { \"use_label_encoder\" } are not used.\n",
            "\n",
            "  warnings.warn(smsg, UserWarning)\n",
            "/usr/local/lib/python3.11/dist-packages/xgboost/core.py:158: UserWarning: [04:24:02] WARNING: /workspace/src/learner.cc:740: \n",
            "Parameters: { \"use_label_encoder\" } are not used.\n",
            "\n",
            "  warnings.warn(smsg, UserWarning)\n",
            "/usr/local/lib/python3.11/dist-packages/xgboost/core.py:158: UserWarning: [04:24:03] WARNING: /workspace/src/learner.cc:740: \n",
            "Parameters: { \"use_label_encoder\" } are not used.\n",
            "\n",
            "  warnings.warn(smsg, UserWarning)\n",
            "/usr/local/lib/python3.11/dist-packages/xgboost/core.py:158: UserWarning: [04:24:03] WARNING: /workspace/src/learner.cc:740: \n",
            "Parameters: { \"use_label_encoder\" } are not used.\n",
            "\n",
            "  warnings.warn(smsg, UserWarning)\n",
            "/usr/local/lib/python3.11/dist-packages/xgboost/core.py:158: UserWarning: [04:24:03] WARNING: /workspace/src/learner.cc:740: \n",
            "Parameters: { \"use_label_encoder\" } are not used.\n",
            "\n",
            "  warnings.warn(smsg, UserWarning)\n",
            "/usr/local/lib/python3.11/dist-packages/xgboost/core.py:158: UserWarning: [04:24:03] WARNING: /workspace/src/learner.cc:740: \n",
            "Parameters: { \"use_label_encoder\" } are not used.\n",
            "\n",
            "  warnings.warn(smsg, UserWarning)\n",
            "/usr/local/lib/python3.11/dist-packages/xgboost/core.py:158: UserWarning: [04:24:03] WARNING: /workspace/src/learner.cc:740: \n",
            "Parameters: { \"use_label_encoder\" } are not used.\n",
            "\n",
            "  warnings.warn(smsg, UserWarning)\n",
            "/usr/local/lib/python3.11/dist-packages/xgboost/core.py:158: UserWarning: [04:24:03] WARNING: /workspace/src/learner.cc:740: \n",
            "Parameters: { \"use_label_encoder\" } are not used.\n",
            "\n",
            "  warnings.warn(smsg, UserWarning)\n",
            "/usr/local/lib/python3.11/dist-packages/xgboost/core.py:158: UserWarning: [04:24:03] WARNING: /workspace/src/learner.cc:740: \n",
            "Parameters: { \"use_label_encoder\" } are not used.\n",
            "\n",
            "  warnings.warn(smsg, UserWarning)\n",
            "/usr/local/lib/python3.11/dist-packages/xgboost/core.py:158: UserWarning: [04:24:03] WARNING: /workspace/src/learner.cc:740: \n",
            "Parameters: { \"use_label_encoder\" } are not used.\n",
            "\n",
            "  warnings.warn(smsg, UserWarning)\n",
            "/usr/local/lib/python3.11/dist-packages/xgboost/core.py:158: UserWarning: [04:24:03] WARNING: /workspace/src/learner.cc:740: \n",
            "Parameters: { \"use_label_encoder\" } are not used.\n",
            "\n",
            "  warnings.warn(smsg, UserWarning)\n"
          ]
        }
      ]
    },
    {
      "cell_type": "markdown",
      "source": [
        "Model 4: Neural Network (Simple MLP)"
      ],
      "metadata": {
        "id": "7Dg4LLM9jNlw"
      }
    },
    {
      "cell_type": "code",
      "source": [
        "model_nn = models.Sequential([\n",
        "    layers.Dense(64, activation='relu', input_shape=(X_train_scaled.shape[1],)),\n",
        "    layers.Dropout(0.3),\n",
        "    layers.Dense(32, activation='relu'),\n",
        "    layers.Dense(1, activation='sigmoid')\n",
        "])\n",
        "model_nn.compile(optimizer='adam', loss='binary_crossentropy', metrics=['accuracy'])\n",
        "history = model_nn.fit(X_train_scaled, y_train, epochs=50, batch_size=32,\n",
        "                      validation_split=0.2, verbose=0)"
      ],
      "metadata": {
        "colab": {
          "base_uri": "https://localhost:8080/"
        },
        "id": "Y54BWNvejNWk",
        "outputId": "a97c31b5-21f4-4a1c-ac08-688bb442e97d"
      },
      "execution_count": null,
      "outputs": [
        {
          "output_type": "stream",
          "name": "stderr",
          "text": [
            "/usr/local/lib/python3.11/dist-packages/keras/src/layers/core/dense.py:87: UserWarning: Do not pass an `input_shape`/`input_dim` argument to a layer. When using Sequential models, prefer using an `Input(shape)` object as the first layer in the model instead.\n",
            "  super().__init__(activity_regularizer=activity_regularizer, **kwargs)\n"
          ]
        }
      ]
    },
    {
      "cell_type": "code",
      "source": [
        "models = {\n",
        "    'Logistic Regression': lr_best,\n",
        "    'Random Forest': rf_best,\n",
        "    'XGBoost': xgb_best\n",
        "}"
      ],
      "metadata": {
        "id": "_sN8-cikjfBY"
      },
      "execution_count": null,
      "outputs": []
    },
    {
      "cell_type": "code",
      "source": [
        "# Evaluate traditional models\n",
        "for name, model in models.items():\n",
        "    y_pred = model.predict(X_test_scaled)\n",
        "    y_proba = model.predict_proba(X_test_scaled)[:, 1]\n",
        "    print(f\"\\n{name} Performance:\")\n",
        "    print(f\"Accuracy: {accuracy_score(y_test, y_pred):.3f}\")\n",
        "    print(f\"ROC-AUC: {roc_auc_score(y_test, y_proba):.3f}\")\n",
        "    print(classification_report(y_test, y_pred))"
      ],
      "metadata": {
        "colab": {
          "base_uri": "https://localhost:8080/"
        },
        "id": "bA4LGH2Wjjjc",
        "outputId": "980d9db5-d68b-44e6-a19f-f4c04be818ec"
      },
      "execution_count": null,
      "outputs": [
        {
          "output_type": "stream",
          "name": "stdout",
          "text": [
            "\n",
            "Logistic Regression Performance:\n",
            "Accuracy: 0.897\n",
            "ROC-AUC: 0.953\n",
            "              precision    recall  f1-score   support\n",
            "\n",
            "           0       0.88      0.92      0.90       250\n",
            "           1       0.91      0.87      0.89       244\n",
            "\n",
            "    accuracy                           0.90       494\n",
            "   macro avg       0.90      0.90      0.90       494\n",
            "weighted avg       0.90      0.90      0.90       494\n",
            "\n",
            "\n",
            "Random Forest Performance:\n",
            "Accuracy: 0.927\n",
            "ROC-AUC: 0.970\n",
            "              precision    recall  f1-score   support\n",
            "\n",
            "           0       0.90      0.96      0.93       250\n",
            "           1       0.96      0.89      0.92       244\n",
            "\n",
            "    accuracy                           0.93       494\n",
            "   macro avg       0.93      0.93      0.93       494\n",
            "weighted avg       0.93      0.93      0.93       494\n",
            "\n",
            "\n",
            "XGBoost Performance:\n",
            "Accuracy: 0.927\n",
            "ROC-AUC: 0.966\n",
            "              precision    recall  f1-score   support\n",
            "\n",
            "           0       0.90      0.96      0.93       250\n",
            "           1       0.96      0.89      0.92       244\n",
            "\n",
            "    accuracy                           0.93       494\n",
            "   macro avg       0.93      0.93      0.93       494\n",
            "weighted avg       0.93      0.93      0.93       494\n",
            "\n"
          ]
        }
      ]
    },
    {
      "cell_type": "markdown",
      "source": [
        " Evaluate Neural Network"
      ],
      "metadata": {
        "id": "ongW3QMkjxwo"
      }
    },
    {
      "cell_type": "code",
      "source": [
        "nn_proba = model_nn.predict(X_test_scaled).flatten()\n",
        "nn_pred = (nn_proba > 0.5).astype(int)\n",
        "print(\"\\nNeural Network Performance:\")\n",
        "print(f\"Accuracy: {accuracy_score(y_test, nn_pred):.3f}\")\n",
        "print(f\"ROC-AUC: {roc_auc_score(y_test, nn_proba):.3f}\")\n",
        "print(classification_report(y_test, nn_pred))"
      ],
      "metadata": {
        "colab": {
          "base_uri": "https://localhost:8080/"
        },
        "id": "gvBLT8y2jvfH",
        "outputId": "1e3fc805-6a81-4875-fb83-185f7a6261e9"
      },
      "execution_count": null,
      "outputs": [
        {
          "output_type": "stream",
          "name": "stdout",
          "text": [
            "\u001b[1m16/16\u001b[0m \u001b[32m━━━━━━━━━━━━━━━━━━━━\u001b[0m\u001b[37m\u001b[0m \u001b[1m0s\u001b[0m 7ms/step\n",
            "\n",
            "Neural Network Performance:\n",
            "Accuracy: 0.919\n",
            "ROC-AUC: 0.963\n",
            "              precision    recall  f1-score   support\n",
            "\n",
            "           0       0.90      0.94      0.92       250\n",
            "           1       0.94      0.89      0.92       244\n",
            "\n",
            "    accuracy                           0.92       494\n",
            "   macro avg       0.92      0.92      0.92       494\n",
            "weighted avg       0.92      0.92      0.92       494\n",
            "\n"
          ]
        }
      ]
    },
    {
      "cell_type": "markdown",
      "source": [
        "Feature Importance (XGBoost)"
      ],
      "metadata": {
        "id": "1tM8qi0lj8KC"
      }
    },
    {
      "cell_type": "code",
      "source": [
        "plt.figure(figsize=(10, 6))\n",
        "sorted_idx = xgb_best.feature_importances_.argsort()\n",
        "plt.barh(X.columns[sorted_idx][-10:], xgb_best.feature_importances_[sorted_idx][-10:])\n",
        "plt.title(\"XGBoost Feature Importance\")\n",
        "plt.show()"
      ],
      "metadata": {
        "colab": {
          "base_uri": "https://localhost:8080/",
          "height": 499
        },
        "id": "iGKGWE_5j4Z9",
        "outputId": "3fe712c6-52b6-4f57-ebf4-83a7c1d231bb"
      },
      "execution_count": null,
      "outputs": [
        {
          "output_type": "display_data",
          "data": {
            "text/plain": [
              "<Figure size 1000x600 with 1 Axes>"
            ],
            "image/png": "[encoded data removed]"
          },
          "metadata": {}
        }
      ]
    },
    {
      "cell_type": "markdown",
      "source": [
        " ROC Curve Comparison"
      ],
      "metadata": {
        "id": "nFZzkBsNkD4h"
      }
    },
    {
      "cell_type": "code",
      "source": [
        "plt.figure(figsize=(8, 6))\n",
        "for name, model in models.items():\n",
        "    y_proba = model.predict_proba(X_test_scaled)[:, 1]\n",
        "    fpr, tpr, _ = roc_curve(y_test, y_proba)\n",
        "    plt.plot(fpr, tpr, label=f'{name} (AUC = {roc_auc_score(y_test, y_proba):.2f})')"
      ],
      "metadata": {
        "colab": {
          "base_uri": "https://localhost:8080/",
          "height": 522
        },
        "id": "MfsTRNZXj_Q-",
        "outputId": "98045a53-db0d-46e5-f30a-9cd2ee3abba9"
      },
      "execution_count": null,
      "outputs": [
        {
          "output_type": "display_data",
          "data": {
            "text/plain": [
              "<Figure size 800x600 with 1 Axes>"
            ],
            "image/png": "[encoded data removed]"
          },
          "metadata": {}
        }
      ]
    },
    {
      "cell_type": "code",
      "source": [
        "fpr_nn, tpr_nn, _ = roc_curve(y_test, nn_proba)\n",
        "plt.plot(fpr_nn, tpr_nn, label=f'Neural Network (AUC = {roc_auc_score(y_test, nn_proba):.2f})')"
      ],
      "metadata": {
        "colab": {
          "base_uri": "https://localhost:8080/",
          "height": 447
        },
        "id": "skQxc5P2kSy6",
        "outputId": "b820ddc8-503c-4815-c7f2-d4fa0dd1df18"
      },
      "execution_count": null,
      "outputs": [
        {
          "output_type": "execute_result",
          "data": {
            "text/plain": [
              "[<matplotlib.lines.Line2D at 0x7e17676ae250>]"
            ]
          },
          "metadata": {},
          "execution_count": 22
        },
        {
          "output_type": "display_data",
          "data": {
            "text/plain": [
              "<Figure size 640x480 with 1 Axes>"
            ],
            "image/png": "[encoded data removed]"
          },
          "metadata": {}
        }
      ]
    },
    {
      "cell_type": "code",
      "source": [
        "plt.plot([0, 1], [0, 1], 'k--')\n",
        "plt.xlabel('False Positive Rate')\n",
        "plt.ylabel('True Positive Rate')\n",
        "plt.title('ROC Curve Comparison')\n",
        "plt.legend()\n",
        "plt.show()\n"
      ],
      "metadata": {
        "colab": {
          "base_uri": "https://localhost:8080/",
          "height": 527
        },
        "id": "I4jw5i1mkbiQ",
        "outputId": "e5060fae-0bc8-40e1-8333-791127e5f25b"
      },
      "execution_count": null,
      "outputs": [
        {
          "output_type": "stream",
          "name": "stderr",
          "text": [
            "<ipython-input-23-70236b98e649>:5: UserWarning: No artists with labels found to put in legend.  Note that artists whose label start with an underscore are ignored when legend() is called with no argument.\n",
            "  plt.legend()\n"
          ]
        },
        {
          "output_type": "display_data",
          "data": {
            "text/plain": [
              "<Figure size 640x480 with 1 Axes>"
            ],
            "image/png": "[encoded data removed]"
          },
          "metadata": {}
        }
      ]
    },
    {
      "cell_type": "code",
      "source": [
        "import joblib\n",
        "\n",
        "# Save the best model (e.g., XGBoost)\n",
        "joblib.dump(xgb_best, 'attrition_model.pkl')\n",
        "\n",
        "# Save the scaler\n",
        "joblib.dump(scaler, 'scaler.pkl')"
      ],
      "metadata": {
        "id": "WMgSFLYLlZnD",
        "colab": {
          "base_uri": "https://localhost:8080/"
        },
        "outputId": "be3379ce-16c5-4c4c-cd5c-b6f497b796d1"
      },
      "execution_count": null,
      "outputs": [
        {
          "output_type": "execute_result",
          "data": {
            "text/plain": [
              "['scaler.pkl']"
            ]
          },
          "metadata": {},
          "execution_count": 31
        }
      ]
    },
    {
      "cell_type": "code",
      "source": [
        "import pandas as pd\n",
        "import joblib\n",
        "\n",
        "# Load the trained model, scaler, and feature names\n",
        "model = joblib.load('attrition_model.pkl')\n",
        "scaler = joblib.load('scaler.pkl')\n",
        "feature_names = joblib.load('feature_names.pkl')  # Load saved feature names\n",
        "\n",
        "def predict_attrition():\n",
        "    # Input employee details\n",
        "    print(\"Enter employee details:\")\n",
        "    age = int(input(\"Age: \"))\n",
        "    monthly_income = float(input(\"Monthly Income: \"))\n",
        "    overtime = input(\"Overtime (Yes/No): \").strip().capitalize()\n",
        "    job_role = input(\"Job Role (e.g., 'Sales Executive', 'Research Scientist'): \").strip().capitalize()\n",
        "    years_at_company = int(input(\"Years at Company: \"))\n",
        "    job_satisfaction = int(input(\"Job Satisfaction (1-4): \"))\n",
        "\n",
        "    # Create a DataFrame with all expected features initialized to 0\n",
        "    data = {col: 0 for col in feature_names}\n",
        "\n",
        "    # Update relevant features with input values\n",
        "    data['Age'] = age\n",
        "    data['MonthlyIncome'] = monthly_income\n",
        "    data['OverTime_Yes'] = 1 if overtime == 'Yes' else 0\n",
        "    data[f'JobRole_{job_role}'] = 1  # Set the specific job role column\n",
        "    data['YearsAtCompany'] = years_at_company\n",
        "    data['JobSatisfaction'] = job_satisfaction\n",
        "\n",
        "    # Convert to DataFrame\n",
        "    df = pd.DataFrame([data])\n",
        "\n",
        "    # Ensure column order matches training data\n",
        "    df = df[feature_names]\n",
        "\n",
        "    # Scale features\n",
        "    scaled_data = scaler.transform(df)\n",
        "\n",
        "    # Predict\n",
        "    prediction = model.predict(scaled_data)\n",
        "    probability = model.predict_proba(scaled_data)[0][1]\n",
        "\n",
        "    # Display result\n",
        "    if prediction[0] == 1:\n",
        "        print(f\"\\nPrediction: Employee is likely to leave (Probability: {probability:.2%})\")\n",
        "    else:\n",
        "        print(f\"\\nPrediction: Employee will stay (Probability: {1 - probability:.2%})\")\n",
        "\n",
        "if __name__ == \"__main__\":\n",
        "    predict_attrition()"
      ],
      "metadata": {
        "colab": {
          "base_uri": "https://localhost:8080/"
        },
        "id": "-FOULk38Mnk3",
        "outputId": "0798f373-64ed-42f6-9650-65dbb55ce4a4"
      },
      "execution_count": null,
      "outputs": [
        {
          "output_type": "stream",
          "name": "stdout",
          "text": [
            "Enter employee details:\n",
            "Age: 50\n",
            "Monthly Income: 50000\n",
            "Overtime (Yes/No): Yes\n",
            "Job Role (e.g., 'Sales Executive', 'Research Scientist'): Sales Executive\n",
            "Years at Company: 9\n",
            "Job Satisfaction (1-4): 4\n",
            "\n",
            "Prediction: Employee is likely to leave (Probability: 80.13%)\n"
          ]
        }
      ]
    }
  ]
}